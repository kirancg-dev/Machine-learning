{
 "cells": [
  {
   "cell_type": "code",
   "execution_count": null,
   "metadata": {
    "colab": {},
    "colab_type": "code",
    "id": "32sHiq-di_eP"
   },
   "outputs": [],
   "source": [
    " import tensorflow as tf\n",
    " from tensorflow import keras\n",
    " from tensorflow.keras.models import Sequential\n",
    " from tensorflow.keras.layers import Activation, Dense, Flatten\n",
    " from tensorflow.keras.optimizers import Adam\n",
    " from tensorflow.keras.metrics import categorical_crossentropy\n",
    " from tensorflow.keras.preprocessing.image import ImageDataGenerator\n",
    " from sklearn.metrics import confusion_matrix\n",
    " import itertools\n",
    " import os\n",
    " import shutil\n",
    " import random\n",
    " import glob\n",
    " import matplotlib.pyplot as plt\n",
    " import warnings \n",
    " warnings.simplefilter(action='ignore',category=FutureWarning)\n",
    " %matplotlib inline"
   ]
  },
  {
   "cell_type": "markdown",
   "metadata": {
    "colab_type": "text",
    "id": "qu4TA1gsULtC"
   },
   "source": [
    "To check if GPU is being used\n",
    "and allowing memory growth in GPU\n"
   ]
  },
  {
   "cell_type": "code",
   "execution_count": null,
   "metadata": {
    "colab": {
     "base_uri": "https://localhost:8080/",
     "height": 34
    },
    "colab_type": "code",
    "id": "6x14HRzljALC",
    "outputId": "2a50d102-d832-42dd-fd1a-61231917590e"
   },
   "outputs": [
    {
     "name": "stdout",
     "output_type": "stream",
     "text": [
      "GPUS:  1\n"
     ]
    }
   ],
   "source": [
    "devices=tf.config.experimental.list_physical_devices('GPU')\n",
    "print(\"GPUS: \", len(devices))\n",
    "tf.config.experimental.set_memory_growth(devices[0],True)"
   ]
  },
  {
   "cell_type": "markdown",
   "metadata": {
    "colab_type": "text",
    "id": "ISDYYLTAVSVy"
   },
   "source": [
    "Considering there is a 'dogs-vs-cats' folder in project directory containing a 'train' folder that has all dogs and cat pictures.\n",
    "\n",
    "We will now orginize the data in train, validate and test directories\n",
    "\n"
   ]
  },
  {
   "cell_type": "code",
   "execution_count": null,
   "metadata": {
    "colab": {},
    "colab_type": "code",
    "id": "umC2IrMWUUNS"
   },
   "outputs": [],
   "source": [
    "os.chdir('dogs-vs-cats')\n",
    "# making new train,validation and test directories if they dont already exist\n",
    "if os.path.isdir('train/dog') is False:\n",
    "  os.makedirs('train/dog')\n",
    "  os.makedirs('train/cat')\n",
    "  os.makedirs('valid/dog')\n",
    "  os.makedirs('valid/cat')\n",
    "  os.makedirs('test/dog')\n",
    "  os.makedirs('test/cat')\n",
    "\n",
    "  # Now moving the pictures into the above directories\n",
    "  # random.sample picks out the specified number of random samples from given list\n",
    "  # glob.glob('cat*') finds all files that start with 'cat'\n",
    "  #shutil.move moves files from one folder to another\n",
    "  for c in random.sample(glob.glob('cat*'),500): \n",
    "    shutil.move(c,'train/cat')\n",
    "  for c in random.sample(glob.glob('dog*'),500):\n",
    "    shutil.move(c,'train/dog')\n",
    "  for c in random.sample(glob.glob('cat*'),100):\n",
    "    shutil.move(c,'valid/cat')\n",
    "  for c in random.sample(glob.glob('dog*'),100):\n",
    "    shutil.move(c,'valid/dog')\n",
    "  for c in random.sample(glob.glob('cat*'),50):\n",
    "    shutil.move(c,'test/cat')\n",
    "  for c in random.sample(glob.glob('dog*'),50):\n",
    "    shutil.move(c,'test/dog')\n"
   ]
  },
  {
   "cell_type": "code",
   "execution_count": null,
   "metadata": {
    "colab": {},
    "colab_type": "code",
    "id": "nltI_Bh_aBGK"
   },
   "outputs": [],
   "source": [
    "train_path = 'dogs-vs-cats/train'\n",
    "valid_path = 'dogs-vs-cats/valid'\n",
    "test_path = 'dogs-vs-cats/test'"
   ]
  },
  {
   "cell_type": "markdown",
   "metadata": {
    "colab_type": "text",
    "id": "3ydA5ZoYdvXq"
   },
   "source": [
    "# Processing the data \n",
    "\n",
    "Whenever we train a model, we have to make sure that we feed data to the model in the format that the model expects.\n",
    "Keras sequential model recieves data in the format of 'Keras generator', so we will format our input in the form of a keras generator"
   ]
  },
  {
   "cell_type": "code",
   "execution_count": null,
   "metadata": {
    "colab": {},
    "colab_type": "code",
    "id": "RMA1JC3EdjwS"
   },
   "outputs": [],
   "source": [
    "# every input image will be 224x224 in size(with batch_size=10) and the dataset is augmented just how it is augmented in vgg16 model \n",
    "train_batches = ImageDataGenerator(processing_function=tf.keras.applications.vgg16.preprocess_input).flow_from_directory(directory=train_path,target_size=(224,224),classes=['cat','dog'],batch_size=10)\n",
    "valid_batches = ImageDataGenerator(processing_function=tf.keras.applications.vgg16.preprocess_input).flow_from_directory(directory=valid_path,target_size=(224,224),classes=['cat','dog'],batch_size=10)\n",
    "test_batches = ImageDataGenerator(processing_function=tf.keras.applications.vgg16.preprocess_input).flow_from_directory(directory=test_path,target_size=(224,224),classes=['cat','dog'],batch_size=10,shuffle=False)\n"
   ]
  },
  {
   "cell_type": "code",
   "execution_count": null,
   "metadata": {
    "colab": {},
    "colab_type": "code",
    "id": "DAJa6PpFjTdT"
   },
   "outputs": [],
   "source": [
    "#this will return 10 images with their labels\n",
    "imgs,labels= next(train_batches) "
   ]
  },
  {
   "cell_type": "markdown",
   "metadata": {
    "colab_type": "text",
    "id": "9rC-yfVejRIT"
   },
   "source": [
    "now this function is directly taken from tensorflow website\n",
    "\n",
    "this function will plot images in the form of a grid with 1 row and 10 columns \n",
    "\n",
    "\n"
   ]
  },
  {
   "cell_type": "code",
   "execution_count": null,
   "metadata": {
    "colab": {},
    "colab_type": "code",
    "id": "FXiYmO7bikJ0"
   },
   "outputs": [],
   "source": [
    "def plotImages(images_arr):\n",
    "  fig,axes = plt.subplots(1,10,figsize(20,20))\n",
    "  axes=axes.flatten()\n",
    "  for img,ax in zip(images_arr,axes):\n",
    "    ax.imshow(img)\n",
    "    ax.axis('off')\n",
    "  plt.tight_layout()\n",
    "  plt.show()"
   ]
  },
  {
   "cell_type": "code",
   "execution_count": null,
   "metadata": {
    "colab": {},
    "colab_type": "code",
    "id": "TzDzrjV0kVy0"
   },
   "outputs": [],
   "source": [
    "plotImages(imgs)\n",
    "print(labels)"
   ]
  },
  {
   "cell_type": "markdown",
   "metadata": {
    "colab_type": "text",
    "id": "CXSxczmtsnmK"
   },
   "source": [
    "NOW MAKING and TRAINING THE CNN"
   ]
  },
  {
   "cell_type": "code",
   "execution_count": null,
   "metadata": {
    "colab": {},
    "colab_type": "code",
    "id": "UNgograOk26c"
   },
   "outputs": [],
   "source": [
    "model= Sequential([\n",
    "                   Conv2D(filters=32,kernet_size=(3,3),activation='relu',padding='same',input_shape=(224,224,3)),\n",
    "                   MaxPool2D(pool_size=(2,2),strides=2),\n",
    "                   Conv2D(filters=64,kernel_size=(3,3),activation='relu',padding='same'),\n",
    "                   MaxPool2D(pool_size=(2,2),strides=2),\n",
    "                   Flatten(),\n",
    "                   Dense(units=2,activation='softmax')\n",
    "]\n",
    ")  \n",
    "model.summary() #details about the model"
   ]
  },
  {
   "cell_type": "code",
   "execution_count": null,
   "metadata": {
    "colab": {},
    "colab_type": "code",
    "id": "pGw7j9nDuRLN"
   },
   "outputs": [],
   "source": [
    "model.compile(optimizer=Adam(learning_rate=0.0001),loss='categorical_crossentropy',metrics=['accuracy '])"
   ]
  },
  {
   "cell_type": "markdown",
   "metadata": {
    "colab_type": "text",
    "id": "JfLhD5YcvD2T"
   },
   "source": [
    "Now in the next line of code, we fit the model and pass the input data x but not the labels i.e y because we have already converted the input into ImageDataGenerator format which already contain the labels with itself"
   ]
  },
  {
   "cell_type": "code",
   "execution_count": null,
   "metadata": {
    "colab": {},
    "colab_type": "code",
    "id": "CgXnMtktuxes"
   },
   "outputs": [],
   "source": [
    "model.fit(x=train_batches, validation_data=valid_batches,epochs=10,verbose=2)"
   ]
  },
  {
   "cell_type": "markdown",
   "metadata": {
    "colab_type": "text",
    "id": "gW672eXKK7Eo"
   },
   "source": [
    "# Predicting now"
   ]
  },
  {
   "cell_type": "code",
   "execution_count": null,
   "metadata": {
    "colab": {},
    "colab_type": "code",
    "id": "lG2ugbM5K-kQ"
   },
   "outputs": [],
   "source": [
    "test_imgs,test_labels=next(test_batches)\n",
    "plotImages(test_imgs)\n",
    "print(test_labels)"
   ]
  },
  {
   "cell_type": "code",
   "execution_count": null,
   "metadata": {
    "colab": {},
    "colab_type": "code",
    "id": "kOpXbbOdLVZi"
   },
   "outputs": [],
   "source": [
    "predictions=model.predict(x=test_batches,verbose=0)\n",
    "np.round(predictions)"
   ]
  },
  {
   "cell_type": "markdown",
   "metadata": {
    "colab_type": "text",
    "id": "MyBbgrBjM4wU"
   },
   "source": [
    "## Confusion matrix\n"
   ]
  },
  {
   "cell_type": "code",
   "execution_count": null,
   "metadata": {
    "colab": {},
    "colab_type": "code",
    "id": "jLqt5rrxM3u_"
   },
   "outputs": [],
   "source": [
    "cm= confusion_matrix(y_true=test_batches.classes,y_pred=np.argmax(predictions,axis=1))"
   ]
  },
  {
   "cell_type": "code",
   "execution_count": null,
   "metadata": {
    "colab": {},
    "colab_type": "code",
    "id": "-ogCQ5j2NW3J"
   },
   "outputs": [],
   "source": [
    "#confusion matrix plotting function directly from scikit learn's website\n",
    "def plot_confusion_matrix(cm, classes,\n",
    "                          normalize=False,\n",
    "                          title='Confusion matrix',\n",
    "                          cmap=plt.cm.Blues):\n",
    "    \"\"\"\n",
    "    This function prints and plots the confusion matrix.\n",
    "    Normalization can be applied by setting `normalize=True`.\n",
    "    \"\"\"\n",
    "    plt.imshow(cm, interpolation='nearest', cmap=cmap)\n",
    "    plt.title(title)\n",
    "    plt.colorbar()\n",
    "    tick_marks = np.arange(len(classes))\n",
    "    plt.xticks(tick_marks, classes, rotation=45)\n",
    "    plt.yticks(tick_marks, classes)\n",
    "\n",
    "    if normalize:\n",
    "        cm = cm.astype('float') / cm.sum(axis=1)[:, np.newaxis]\n",
    "        print(\"Normalized confusion matrix\")\n",
    "    else:\n",
    "        print('Confusion matrix, without normalization')\n",
    "\n",
    "    print(cm)\n",
    "\n",
    "    thresh = cm.max() / 2.\n",
    "    for i, j in itertools.product(range(cm.shape[0]), range(cm.shape[1])):\n",
    "        plt.text(j, i, cm[i, j],\n",
    "                 horizontalalignment=\"center\",\n",
    "                 color=\"white\" if cm[i, j] > thresh else \"black\")\n",
    "\n",
    "    plt.tight_layout()\n",
    "    plt.ylabel('True label')\n",
    "    plt.xlabel('Predicted label')"
   ]
  },
  {
   "cell_type": "code",
   "execution_count": null,
   "metadata": {
    "colab": {},
    "colab_type": "code",
    "id": "MHP8YnmDNrj9"
   },
   "outputs": [],
   "source": [
    "test_batches.class_indicies"
   ]
  },
  {
   "cell_type": "code",
   "execution_count": null,
   "metadata": {
    "colab": {},
    "colab_type": "code",
    "id": "S09HxgVENuqG"
   },
   "outputs": [],
   "source": [
    "cm_plot_labels=['cat','dog']\n",
    "plot_confusion_matrix(cm=cm,classes=cm_plot_labels,title=\"MY CONFSION MATRIX\")"
   ]
  }
 ],
 "metadata": {
  "colab": {
   "name": "CatsVsDogs_manuallyTrainedCNN.ipynb",
   "provenance": []
  },
  "kernelspec": {
   "display_name": "Python 3",
   "language": "python",
   "name": "python3"
  },
  "language_info": {
   "codemirror_mode": {
    "name": "ipython",
    "version": 3
   },
   "file_extension": ".py",
   "mimetype": "text/x-python",
   "name": "python",
   "nbconvert_exporter": "python",
   "pygments_lexer": "ipython3",
   "version": "3.7.3"
  }
 },
 "nbformat": 4,
 "nbformat_minor": 1
}
