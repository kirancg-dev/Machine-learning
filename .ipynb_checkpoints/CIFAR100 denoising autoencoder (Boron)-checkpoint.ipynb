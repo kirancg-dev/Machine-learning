{
 "cells": [
  {
   "cell_type": "code",
   "execution_count": null,
   "metadata": {
    "colab": {},
    "colab_type": "code",
    "id": "W75PRuGiy5Xr"
   },
   "outputs": [],
   "source": [
    "import numpy as np\n",
    "import matplotlib.pyplot as plt\n",
    "from tensorflow.keras.layers import Conv2D, Input, Dense, Reshape, Conv2DTranspose,\\\n",
    "   Activation, BatchNormalization, ReLU, Concatenate\n",
    "from tensorflow.keras.models import Model\n",
    "from tensorflow.keras.callbacks import ModelCheckpoint\n",
    "from tensorflow.keras.datasets import cifar100, cifar10"
   ]
  },
  {
   "cell_type": "code",
   "execution_count": null,
   "metadata": {
    "colab": {
     "base_uri": "https://localhost:8080/",
     "height": 53
    },
    "colab_type": "code",
    "id": "D6hxWQmWzKQt",
    "outputId": "7297638b-03b1-4b42-e659-adc8daf7fca6"
   },
   "outputs": [
    {
     "name": "stdout",
     "output_type": "stream",
     "text": [
      "Downloading data from https://www.cs.toronto.edu/~kriz/cifar-100-python.tar.gz\n",
      "169009152/169001437 [==============================] - 6s 0us/step\n"
     ]
    }
   ],
   "source": [
    "(train_data_clean, _), (test_data_clean, _) = cifar100.load_data(label_mode='fine')"
   ]
  },
  {
   "cell_type": "code",
   "execution_count": null,
   "metadata": {
    "colab": {},
    "colab_type": "code",
    "id": "DmJ7PU4IzO_w"
   },
   "outputs": [],
   "source": [
    "train_data_clean = train_data_clean.astype('float32') / 255.\n",
    "test_data_clean = test_data_clean.astype('float32') / 255."
   ]
  },
  {
   "cell_type": "code",
   "execution_count": null,
   "metadata": {
    "colab": {},
    "colab_type": "code",
    "id": "f6oUm-nUzXze"
   },
   "outputs": [],
   "source": [
    "def add_noise_and_clip_data(data):\n",
    "   noise = np.random.normal(loc=0.0, scale=0.1, size=data.shape)\n",
    "   data = data + noise\n",
    "   data = np.clip(data, 0., 1.)\n",
    "   return data"
   ]
  },
  {
   "cell_type": "code",
   "execution_count": null,
   "metadata": {
    "colab": {},
    "colab_type": "code",
    "id": "MNhWvdIRzje9"
   },
   "outputs": [],
   "source": [
    "train_data_noisy = add_noise_and_clip_data(train_data_clean)\n",
    "test_data_noisy = add_noise_and_clip_data(test_data_clean)"
   ]
  },
  {
   "cell_type": "code",
   "execution_count": null,
   "metadata": {
    "colab": {
     "base_uri": "https://localhost:8080/",
     "height": 216
    },
    "colab_type": "code",
    "id": "XACweGYTzlqt",
    "outputId": "c4bc9688-8d83-4ef9-ca6b-898a4037c85c"
   },
   "outputs": [
    {
     "data": {
      "image/png": "[encoded data removed]",
      "text/plain": [
       "<Figure size 432x288 with 2 Axes>"
      ]
     },
     "metadata": {
      "needs_background": "light",
      "tags": []
     },
     "output_type": "display_data"
    }
   ],
   "source": [
    "idx = 19\n",
    "plt.subplot(1,2,1)\n",
    "plt.imshow(train_data_clean[idx])\n",
    "plt.title('Original image')\n",
    "plt.subplot(1,2,2)\n",
    "plt.imshow(train_data_noisy[idx])\n",
    "plt.title('Image with noise')\n",
    "plt.show()"
   ]
  },
  {
   "cell_type": "code",
   "execution_count": null,
   "metadata": {
    "colab": {},
    "colab_type": "code",
    "id": "AS4eXM6VzviA"
   },
   "outputs": [],
   "source": [
    "def conv_block(x, filters, kernel_size, strides=2):\n",
    "   x = Conv2D(filters=filters,\n",
    "              kernel_size=kernel_size,\n",
    "              strides=strides,\n",
    "              padding='same')(x)\n",
    "   x = BatchNormalization()(x)\n",
    "   x = ReLU()(x)\n",
    "   return x"
   ]
  },
  {
   "cell_type": "code",
   "execution_count": null,
   "metadata": {
    "colab": {},
    "colab_type": "code",
    "id": "JMwkWYaV0PGc"
   },
   "outputs": [],
   "source": [
    "def deconv_block(x, filters, kernel_size):\n",
    "   x = Conv2DTranspose(filters=filters,\n",
    "                       kernel_size=kernel_size,\n",
    "                       strides=2,\n",
    "                       padding='same')(x)\n",
    "   x = BatchNormalization()(x)\n",
    "   x = ReLU()(x)\n",
    "   return x"
   ]
  },
  {
   "cell_type": "code",
   "execution_count": null,
   "metadata": {
    "colab": {},
    "colab_type": "code",
    "id": "e21atuYE0Rzt"
   },
   "outputs": [],
   "source": [
    "def denoising_autoencoder():\n",
    "   dae_inputs = Input(shape=(32, 32, 3), name='dae_input')\n",
    "   conv_block1 = conv_block(dae_inputs, 32, 3)\n",
    "   conv_block2 = conv_block(conv_block1, 64, 3)\n",
    "   conv_block3 = conv_block(conv_block2, 128, 3)\n",
    "   conv_block4 = conv_block(conv_block3, 256, 3)\n",
    "   conv_block5 = conv_block(conv_block4, 256, 3, 1)\n",
    "\n",
    "   deconv_block1 = deconv_block(conv_block5, 256, 3)\n",
    "   merge1 = Concatenate()([deconv_block1, conv_block3])\n",
    "   deconv_block2 = deconv_block(merge1, 128, 3)\n",
    "   merge2 = Concatenate()([deconv_block2, conv_block2])\n",
    "   deconv_block3 = deconv_block(merge2, 64, 3)\n",
    "   merge3 = Concatenate()([deconv_block3, conv_block1])\n",
    "   deconv_block4 = deconv_block(merge3, 32, 3)\n",
    "\n",
    "   final_deconv = Conv2DTranspose(filters=3,\n",
    "                       kernel_size=3,\n",
    "                       padding='same')(deconv_block4)\n",
    "\n",
    "   dae_outputs = Activation('sigmoid', name='dae_output')(final_deconv)\n",
    "   \n",
    "   return Model(dae_inputs, dae_outputs, name='dae')"
   ]
  },
  {
   "cell_type": "code",
   "execution_count": null,
   "metadata": {
    "colab": {
     "base_uri": "https://localhost:8080/",
     "height": 1000
    },
    "colab_type": "code",
    "id": "MFttKUsm06Vc",
    "outputId": "19ca59a6-7b07-4966-b2ee-d2b4efb560b9"
   },
   "outputs": [
    {
     "name": "stdout",
     "output_type": "stream",
     "text": [
      "Epoch 1/40\n",
      "391/391 [==============================] - ETA: 0s - loss: 0.0048\n",
      "Epoch 00001: val_loss improved from inf to 0.00565, saving model to best_model.h5\n",
      "391/391 [==============================] - 24s 62ms/step - loss: 0.0048 - val_loss: 0.0057\n",
      "Epoch 2/40\n",
      "390/391 [============================>.] - ETA: 0s - loss: 0.0026\n",
      "Epoch 00002: val_loss improved from 0.00565 to 0.00227, saving model to best_model.h5\n",
      "391/391 [==============================] - 24s 60ms/step - loss: 0.0026 - val_loss: 0.0023\n",
      "Epoch 3/40\n",
      "390/391 [============================>.] - ETA: 0s - loss: 0.0024\n",
      "Epoch 00003: val_loss improved from 0.00227 to 0.00217, saving model to best_model.h5\n",
      "391/391 [==============================] - 24s 61ms/step - loss: 0.0024 - val_loss: 0.0022\n",
      "Epoch 4/40\n",
      "390/391 [============================>.] - ETA: 0s - loss: 0.0022\n",
      "Epoch 00004: val_loss improved from 0.00217 to 0.00207, saving model to best_model.h5\n",
      "391/391 [==============================] - 24s 62ms/step - loss: 0.0022 - val_loss: 0.0021\n",
      "Epoch 5/40\n",
      "390/391 [============================>.] - ETA: 0s - loss: 0.0022\n",
      "Epoch 00005: val_loss did not improve from 0.00207\n",
      "391/391 [==============================] - 24s 62ms/step - loss: 0.0022 - val_loss: 0.0022\n",
      "Epoch 6/40\n",
      "390/391 [============================>.] - ETA: 0s - loss: 0.0021\n",
      "Epoch 00006: val_loss did not improve from 0.00207\n",
      "391/391 [==============================] - 24s 61ms/step - loss: 0.0021 - val_loss: 0.0021\n",
      "Epoch 7/40\n",
      "390/391 [============================>.] - ETA: 0s - loss: 0.0021\n",
      "Epoch 00007: val_loss did not improve from 0.00207\n",
      "391/391 [==============================] - 24s 62ms/step - loss: 0.0021 - val_loss: 0.0023\n",
      "Epoch 8/40\n",
      "390/391 [============================>.] - ETA: 0s - loss: 0.0020\n",
      "Epoch 00008: val_loss improved from 0.00207 to 0.00188, saving model to best_model.h5\n",
      "391/391 [==============================] - 24s 62ms/step - loss: 0.0020 - val_loss: 0.0019\n",
      "Epoch 9/40\n",
      "390/391 [============================>.] - ETA: 0s - loss: 0.0019\n",
      "Epoch 00009: val_loss did not improve from 0.00188\n",
      "391/391 [==============================] - 24s 62ms/step - loss: 0.0019 - val_loss: 0.0021\n",
      "Epoch 10/40\n",
      "390/391 [============================>.] - ETA: 0s - loss: 0.0019\n",
      "Epoch 00010: val_loss did not improve from 0.00188\n",
      "391/391 [==============================] - 24s 62ms/step - loss: 0.0019 - val_loss: 0.0019\n",
      "Epoch 11/40\n",
      "390/391 [============================>.] - ETA: 0s - loss: 0.0019\n",
      "Epoch 00011: val_loss improved from 0.00188 to 0.00185, saving model to best_model.h5\n",
      "391/391 [==============================] - 24s 62ms/step - loss: 0.0019 - val_loss: 0.0019\n",
      "Epoch 12/40\n",
      "390/391 [============================>.] - ETA: 0s - loss: 0.0018\n",
      "Epoch 00012: val_loss improved from 0.00185 to 0.00170, saving model to best_model.h5\n",
      "391/391 [==============================] - 24s 62ms/step - loss: 0.0018 - val_loss: 0.0017\n",
      "Epoch 13/40\n",
      "390/391 [============================>.] - ETA: 0s - loss: 0.0018\n",
      "Epoch 00013: val_loss did not improve from 0.00170\n",
      "391/391 [==============================] - 24s 62ms/step - loss: 0.0018 - val_loss: 0.0017\n",
      "Epoch 14/40\n",
      "390/391 [============================>.] - ETA: 0s - loss: 0.0018\n",
      "Epoch 00014: val_loss did not improve from 0.00170\n",
      "391/391 [==============================] - 24s 62ms/step - loss: 0.0018 - val_loss: 0.0017\n",
      "Epoch 15/40\n",
      "390/391 [============================>.] - ETA: 0s - loss: 0.0018\n",
      "Epoch 00015: val_loss improved from 0.00170 to 0.00169, saving model to best_model.h5\n",
      "391/391 [==============================] - 24s 62ms/step - loss: 0.0018 - val_loss: 0.0017\n",
      "Epoch 16/40\n",
      "390/391 [============================>.] - ETA: 0s - loss: 0.0018\n",
      "Epoch 00016: val_loss did not improve from 0.00169\n",
      "391/391 [==============================] - 24s 62ms/step - loss: 0.0018 - val_loss: 0.0017\n",
      "Epoch 17/40\n",
      "390/391 [============================>.] - ETA: 0s - loss: 0.0017\n",
      "Epoch 00017: val_loss improved from 0.00169 to 0.00166, saving model to best_model.h5\n",
      "391/391 [==============================] - 24s 62ms/step - loss: 0.0017 - val_loss: 0.0017\n",
      "Epoch 18/40\n",
      "390/391 [============================>.] - ETA: 0s - loss: 0.0017\n",
      "Epoch 00018: val_loss did not improve from 0.00166\n",
      "391/391 [==============================] - 24s 62ms/step - loss: 0.0017 - val_loss: 0.0017\n",
      "Epoch 19/40\n",
      "390/391 [============================>.] - ETA: 0s - loss: 0.0017\n",
      "Epoch 00019: val_loss improved from 0.00166 to 0.00163, saving model to best_model.h5\n",
      "391/391 [==============================] - 24s 62ms/step - loss: 0.0017 - val_loss: 0.0016\n",
      "Epoch 20/40\n",
      "390/391 [============================>.] - ETA: 0s - loss: 0.0017\n",
      "Epoch 00020: val_loss did not improve from 0.00163\n",
      "391/391 [==============================] - 24s 62ms/step - loss: 0.0017 - val_loss: 0.0016\n",
      "Epoch 21/40\n",
      "390/391 [============================>.] - ETA: 0s - loss: 0.0017\n",
      "Epoch 00021: val_loss did not improve from 0.00163\n",
      "391/391 [==============================] - 24s 62ms/step - loss: 0.0017 - val_loss: 0.0017\n",
      "Epoch 22/40\n",
      "390/391 [============================>.] - ETA: 0s - loss: 0.0017\n",
      "Epoch 00022: val_loss did not improve from 0.00163\n",
      "391/391 [==============================] - 24s 61ms/step - loss: 0.0017 - val_loss: 0.0016\n",
      "Epoch 23/40\n",
      "390/391 [============================>.] - ETA: 0s - loss: 0.0017\n",
      "Epoch 00023: val_loss did not improve from 0.00163\n",
      "391/391 [==============================] - 24s 61ms/step - loss: 0.0017 - val_loss: 0.0016\n",
      "Epoch 24/40\n",
      "390/391 [============================>.] - ETA: 0s - loss: 0.0017\n",
      "Epoch 00024: val_loss did not improve from 0.00163\n",
      "391/391 [==============================] - 24s 62ms/step - loss: 0.0017 - val_loss: 0.0016\n",
      "Epoch 25/40\n",
      "391/391 [==============================] - ETA: 0s - loss: 0.0016\n",
      "Epoch 00025: val_loss did not improve from 0.00163\n",
      "391/391 [==============================] - 25s 64ms/step - loss: 0.0016 - val_loss: 0.0016\n",
      "Epoch 26/40\n",
      "390/391 [============================>.] - ETA: 0s - loss: 0.0016\n",
      "Epoch 00026: val_loss improved from 0.00163 to 0.00159, saving model to best_model.h5\n",
      "391/391 [==============================] - 25s 64ms/step - loss: 0.0016 - val_loss: 0.0016\n",
      "Epoch 27/40\n",
      "390/391 [============================>.] - ETA: 0s - loss: 0.0016\n",
      "Epoch 00027: val_loss did not improve from 0.00159\n",
      "391/391 [==============================] - 24s 62ms/step - loss: 0.0016 - val_loss: 0.0016\n",
      "Epoch 28/40\n",
      "390/391 [============================>.] - ETA: 0s - loss: 0.0016\n",
      "Epoch 00028: val_loss did not improve from 0.00159\n",
      "391/391 [==============================] - 25s 63ms/step - loss: 0.0016 - val_loss: 0.0016\n",
      "Epoch 29/40\n",
      "390/391 [============================>.] - ETA: 0s - loss: 0.0016\n",
      "Epoch 00029: val_loss did not improve from 0.00159\n",
      "391/391 [==============================] - 24s 62ms/step - loss: 0.0016 - val_loss: 0.0016\n",
      "Epoch 30/40\n",
      "390/391 [============================>.] - ETA: 0s - loss: 0.0016\n",
      "Epoch 00030: val_loss did not improve from 0.00159\n",
      "391/391 [==============================] - 24s 62ms/step - loss: 0.0016 - val_loss: 0.0016\n",
      "Epoch 31/40\n",
      "390/391 [============================>.] - ETA: 0s - loss: 0.0016\n",
      "Epoch 00031: val_loss improved from 0.00159 to 0.00159, saving model to best_model.h5\n",
      "391/391 [==============================] - 25s 64ms/step - loss: 0.0016 - val_loss: 0.0016\n",
      "Epoch 32/40\n",
      "390/391 [============================>.] - ETA: 0s - loss: 0.0016\n",
      "Epoch 00032: val_loss improved from 0.00159 to 0.00157, saving model to best_model.h5\n",
      "391/391 [==============================] - 25s 65ms/step - loss: 0.0016 - val_loss: 0.0016\n",
      "Epoch 33/40\n",
      "391/391 [==============================] - ETA: 0s - loss: 0.0016\n",
      "Epoch 00033: val_loss did not improve from 0.00157\n",
      "391/391 [==============================] - 25s 64ms/step - loss: 0.0016 - val_loss: 0.0016\n",
      "Epoch 34/40\n",
      "391/391 [==============================] - ETA: 0s - loss: 0.0016\n",
      "Epoch 00034: val_loss did not improve from 0.00157\n",
      "391/391 [==============================] - 25s 64ms/step - loss: 0.0016 - val_loss: 0.0017\n",
      "Epoch 35/40\n",
      "390/391 [============================>.] - ETA: 0s - loss: 0.0016\n",
      "Epoch 00035: val_loss did not improve from 0.00157\n",
      "391/391 [==============================] - 25s 65ms/step - loss: 0.0016 - val_loss: 0.0016\n",
      "Epoch 36/40\n",
      "391/391 [==============================] - ETA: 0s - loss: 0.0016\n",
      "Epoch 00036: val_loss did not improve from 0.00157\n",
      "391/391 [==============================] - 25s 64ms/step - loss: 0.0016 - val_loss: 0.0016\n",
      "Epoch 37/40\n",
      "390/391 [============================>.] - ETA: 0s - loss: 0.0015\n",
      "Epoch 00037: val_loss improved from 0.00157 to 0.00156, saving model to best_model.h5\n",
      "391/391 [==============================] - 25s 63ms/step - loss: 0.0015 - val_loss: 0.0016\n",
      "Epoch 38/40\n",
      "390/391 [============================>.] - ETA: 0s - loss: 0.0015\n",
      "Epoch 00038: val_loss did not improve from 0.00156\n",
      "391/391 [==============================] - 26s 66ms/step - loss: 0.0015 - val_loss: 0.0016\n",
      "Epoch 39/40\n",
      "390/391 [============================>.] - ETA: 0s - loss: 0.0015\n",
      "Epoch 00039: val_loss did not improve from 0.00156\n",
      "391/391 [==============================] - 25s 64ms/step - loss: 0.0015 - val_loss: 0.0016\n",
      "Epoch 40/40\n",
      "390/391 [============================>.] - ETA: 0s - loss: 0.0015\n",
      "Epoch 00040: val_loss did not improve from 0.00156\n",
      "391/391 [==============================] - 25s 64ms/step - loss: 0.0015 - val_loss: 0.0016\n"
     ]
    },
    {
     "data": {
      "text/plain": [
       "<tensorflow.python.keras.callbacks.History at 0x7faa700b9f60>"
      ]
     },
     "execution_count": 20,
     "metadata": {
      "tags": []
     },
     "output_type": "execute_result"
    }
   ],
   "source": [
    "dae = denoising_autoencoder()\n",
    "dae.compile(loss='mse', optimizer='adam')\n",
    "\n",
    "checkpoint = ModelCheckpoint('best_model.h5', verbose=1, save_best_only=True, save_weights_only=True)\n",
    "\n",
    "dae.fit(train_data_noisy,\n",
    "       train_data_clean,\n",
    "       validation_data=(test_data_noisy, test_data_clean),\n",
    "       epochs=40,\n",
    "       batch_size=128,\n",
    "       callbacks=[checkpoint])\n"
   ]
  },
  {
   "cell_type": "code",
   "execution_count": null,
   "metadata": {
    "colab": {
     "base_uri": "https://localhost:8080/",
     "height": 162
    },
    "colab_type": "code",
    "id": "yCOX3YwJ1hkp",
    "outputId": "5a724287-a099-4951-87c8-3383420c1d0c"
   },
   "outputs": [
    {
     "data": {
      "image/png": "[encoded data removed]",
      "text/plain": [
       "<Figure size 432x288 with 3 Axes>"
      ]
     },
     "metadata": {
      "needs_background": "light",
      "tags": []
     },
     "output_type": "display_data"
    }
   ],
   "source": [
    "dae.load_weights('best_model.h5')\n",
    "test_data_denoised = dae.predict(test_data_noisy)\n",
    "idx = 2\n",
    "plt.subplot(1,3,1)\n",
    "plt.imshow(test_data_clean[idx])\n",
    "plt.title('original')\n",
    "plt.subplot(1,3,2)\n",
    "plt.imshow(test_data_noisy[idx])\n",
    "plt.title('noisy')\n",
    "plt.subplot(1,3,3)\n",
    "plt.imshow(test_data_denoised[idx])\n",
    "plt.title('denoised')\n",
    "plt.show()"
   ]
  },
  {
   "cell_type": "code",
   "execution_count": null,
   "metadata": {
    "colab": {
     "base_uri": "https://localhost:8080/",
     "height": 35
    },
    "colab_type": "code",
    "id": "VvEnNBoI1sUR",
    "outputId": "b7f06763-d6f2-499f-e217-c6a193aab524"
   },
   "outputs": [
    {
     "data": {
      "text/plain": [
       "(0.009110991838404262, 0.0015634708)"
      ]
     },
     "execution_count": 25,
     "metadata": {
      "tags": []
     },
     "output_type": "execute_result"
    }
   ],
   "source": [
    "def mse(data_1, data_2):\n",
    "   return np.square(np.subtract(data_1, data_2)).mean()\n",
    "\n",
    "noisy_clean_mse = mse(test_data_clean, test_data_noisy)\n",
    "denoised_clean_mse = mse(test_data_denoised, test_data_clean)\n",
    "\n",
    "noisy_clean_mse, denoised_clean_mse"
   ]
  },
  {
   "cell_type": "code",
   "execution_count": null,
   "metadata": {
    "colab": {
     "base_uri": "https://localhost:8080/",
     "height": 53
    },
    "colab_type": "code",
    "id": "MtVkzxha1Q62",
    "outputId": "9cb87bb5-591f-4df5-9845-869f02ce7bc4"
   },
   "outputs": [
    {
     "name": "stdout",
     "output_type": "stream",
     "text": [
      "Downloading data from https://www.cs.toronto.edu/~kriz/cifar-10-python.tar.gz\n",
      "170500096/170498071 [==============================] - 6s 0us/step\n"
     ]
    }
   ],
   "source": [
    "(cifar10_train, _), (cifar10_test, _) = cifar10.load_data()"
   ]
  },
  {
   "cell_type": "code",
   "execution_count": null,
   "metadata": {
    "colab": {},
    "colab_type": "code",
    "id": "N7XesniO6bXV"
   },
   "outputs": [],
   "source": [
    "cifar10_train = cifar10_train.astype('float32') / 255.\n",
    "cifar10_test = cifar10_test.astype('float32') / 255.\n",
    "cifar10_train_noisy = add_noise_and_clip_data(cifar10_train)\n",
    "cifar10_test_noisy = add_noise_and_clip_data(cifar10_test)"
   ]
  },
  {
   "cell_type": "code",
   "execution_count": null,
   "metadata": {
    "colab": {},
    "colab_type": "code",
    "id": "O1eUXcM66ejL"
   },
   "outputs": [],
   "source": [
    "cifar10_test_denoised = dae.predict(cifar10_test_noisy)"
   ]
  },
  {
   "cell_type": "code",
   "execution_count": null,
   "metadata": {
    "colab": {
     "base_uri": "https://localhost:8080/",
     "height": 162
    },
    "colab_type": "code",
    "id": "uklPThkF6keZ",
    "outputId": "fbd3dd9a-85b0-4bb1-c810-2014600d915c"
   },
   "outputs": [
    {
     "data": {
      "image/png": "[encoded data removed]",
      "text/plain": [
       "<Figure size 432x288 with 3 Axes>"
      ]
     },
     "metadata": {
      "needs_background": "light",
      "tags": []
     },
     "output_type": "display_data"
    }
   ],
   "source": [
    "idx = 10\n",
    "plt.subplot(1,3,1)\n",
    "plt.imshow(cifar10_test[idx])\n",
    "plt.title('original')\n",
    "plt.subplot(1,3,2)\n",
    "plt.imshow(cifar10_test_noisy[idx])\n",
    "plt.title('noisy')\n",
    "plt.subplot(1,3,3)\n",
    "plt.imshow(cifar10_test_denoised[idx])\n",
    "plt.title('denoised')\n",
    "plt.show()"
   ]
  },
  {
   "cell_type": "code",
   "execution_count": null,
   "metadata": {
    "colab": {
     "base_uri": "https://localhost:8080/",
     "height": 35
    },
    "colab_type": "code",
    "id": "7JVOiubV6q7Z",
    "outputId": "a0b74cd9-7c4f-4c58-8045-215bb0fb8c80"
   },
   "outputs": [
    {
     "data": {
      "text/plain": [
       "(0.009302891035015418, 0.0015402783)"
      ]
     },
     "execution_count": 31,
     "metadata": {
      "tags": []
     },
     "output_type": "execute_result"
    }
   ],
   "source": [
    "clean_noisy = mse(cifar10_test, cifar10_test_noisy)\n",
    "clean_denoised = mse(cifar10_test, cifar10_test_denoised)\n",
    "\n",
    "clean_noisy, clean_denoised"
   ]
  },
  {
   "cell_type": "code",
   "execution_count": null,
   "metadata": {
    "colab": {},
    "colab_type": "code",
    "id": "AWpAhLin6wg5"
   },
   "outputs": [],
   "source": []
  }
 ],
 "metadata": {
  "accelerator": "GPU",
  "colab": {
   "name": "CIFAR100(train)+10(test)Denoising.ipynb",
   "provenance": []
  },
  "kernelspec": {
   "display_name": "Python 3",
   "language": "python",
   "name": "python3"
  },
  "language_info": {
   "codemirror_mode": {
    "name": "ipython",
    "version": 3
   },
   "file_extension": ".py",
   "mimetype": "text/x-python",
   "name": "python",
   "nbconvert_exporter": "python",
   "pygments_lexer": "ipython3",
   "version": "3.7.3"
  }
 },
 "nbformat": 4,
 "nbformat_minor": 1
}
