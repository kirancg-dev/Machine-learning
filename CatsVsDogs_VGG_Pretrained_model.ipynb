{
  "nbformat": 4,
  "nbformat_minor": 0,
  "metadata": {
    "colab": {
      "name": "CatsVsDogs_VGG_Pretrained_model.ipynb",
      "provenance": []
    },
    "kernelspec": {
      "name": "python3",
      "display_name": "Python 3"
    }
  },
  "cells": [
    {
      "cell_type": "code",
      "metadata": {
        "id": "Zy-oS7W1OH6h",
        "colab_type": "code",
        "colab": {}
      },
      "source": [
        " import tensorflow as tf\n",
        " from tensorflow import keras\n",
        " from tensorflow.keras.models import Sequential\n",
        " from tensorflow.keras.layers import Activation, Dense, Flatten\n",
        " from tensorflow.keras.optimizers import Adam\n",
        " from tensorflow.keras.metrics import categorical_crossentropy\n",
        " from tensorflow.keras.preprocessing.image import ImageDataGenerator\n",
        " from sklearn.metrics import confusion_matrix\n",
        " import itertools\n",
        " import os\n",
        " import shutil\n",
        " import random\n",
        " import glob\n",
        " import matplotlib.pyplot as plt\n",
        " import warnings \n",
        " warnings.simplefilter(action='ignore',category=FutureWarning)\n",
        " %matplotlib inline"
      ],
      "execution_count": null,
      "outputs": []
    },
    {
      "cell_type": "markdown",
      "metadata": {
        "id": "mbm2zz2AjDmu",
        "colab_type": "text"
      },
      "source": [
        "Using a pretrained model and watching its summary\n",
        "\n",
        "\n",
        "\n",
        "This model ws trained for over 1000 classes but ours will just be for 2 classes i.e cats and dogs. Therefore we will change the last dense layer to just 2 neurons\n",
        "\n"
      ]
    },
    {
      "cell_type": "code",
      "metadata": {
        "id": "sCaZnMUrRyYP",
        "colab_type": "code",
        "colab": {}
      },
      "source": [
        "vgg16_model = tf.keras.applications.vgg.VGG16()\n",
        "vgg16_model.summary()"
      ],
      "execution_count": null,
      "outputs": []
    },
    {
      "cell_type": "markdown",
      "metadata": {
        "id": "SRpKSPSMj_F0",
        "colab_type": "text"
      },
      "source": [
        "The type of Vgg16 model is of type 'model.Model' which is not 'sequential', but as we are going to make a sequential model for this purpose, we will first change the vgg model into a sqeuential model of our own\n"
      ]
    },
    {
      "cell_type": "code",
      "metadata": {
        "id": "10hka3UwjTm8",
        "colab_type": "code",
        "colab": {}
      },
      "source": [
        "model=Sequential()\n",
        "for layer in vgg16_model.layers[:-1]: # adding each layer in our model like vgg16 but leaving the last layer\n",
        "  model.add(layer)\n",
        "#this step just created our own model which looks exaclty like the vgg16(except last layer)"
      ],
      "execution_count": null,
      "outputs": []
    },
    {
      "cell_type": "code",
      "metadata": {
        "id": "3LnWvIEol3PF",
        "colab_type": "code",
        "colab": {}
      },
      "source": [
        "for layer in model.layers:\n",
        "  layer.trainable=False\n",
        "model.add(Dense(units=2,activation='softmax'))"
      ],
      "execution_count": null,
      "outputs": []
    },
    {
      "cell_type": "markdown",
      "metadata": {
        "id": "9Y3futaJn1YM",
        "colab_type": "text"
      },
      "source": [
        "Now we are going to train our model but as we are using a pretrained model, we dont have to fully train it but we will only have to train the last layer."
      ]
    },
    {
      "cell_type": "code",
      "metadata": {
        "id": "7vkHjKJwoEYx",
        "colab_type": "code",
        "colab": {}
      },
      "source": [
        "model.compile(optimizer=Adam(learning_rate=0.0001),loss='categorical_crossentropy',metrics=['accuracy'])"
      ],
      "execution_count": null,
      "outputs": []
    },
    {
      "cell_type": "code",
      "metadata": {
        "id": "DIy_6HBXNhlc",
        "colab_type": "code",
        "colab": {}
      },
      "source": [
        "model.fit(x=train_batches,validation_data=valid_batches,epochs=5,verbose=2)\n",
        "#for training and validation data, refer to manual_catsVsDogs model"
      ],
      "execution_count": null,
      "outputs": []
    },
    {
      "cell_type": "markdown",
      "metadata": {
        "id": "9QXxI2q5wzVT",
        "colab_type": "text"
      },
      "source": [
        "Now predictions\n"
      ]
    },
    {
      "cell_type": "code",
      "metadata": {
        "id": "FKC9HekENutD",
        "colab_type": "code",
        "colab": {}
      },
      "source": [
        "predictions=model.predict(x=test.batches,verbose=0)"
      ],
      "execution_count": null,
      "outputs": []
    },
    {
      "cell_type": "code",
      "metadata": {
        "id": "JNDTMLWyw7Sh",
        "colab_type": "code",
        "colab": {}
      },
      "source": [
        "test_batches.classes"
      ],
      "execution_count": null,
      "outputs": []
    },
    {
      "cell_type": "code",
      "metadata": {
        "id": "UwRzwbRSxTOx",
        "colab_type": "code",
        "colab": {}
      },
      "source": [
        "cm=confusion_matrix(y_true=test_batches.classes,y_pred=np.argmax(predictions,axis=-1))"
      ],
      "execution_count": null,
      "outputs": []
    },
    {
      "cell_type": "code",
      "metadata": {
        "id": "iioDPv_CxixZ",
        "colab_type": "code",
        "colab": {}
      },
      "source": [
        "test_batches.class_indices"
      ],
      "execution_count": null,
      "outputs": []
    },
    {
      "cell_type": "code",
      "metadata": {
        "id": "wS0pBzypxmA7",
        "colab_type": "code",
        "colab": {}
      },
      "source": [
        "cm_plot_labels=['cat','dog']\n",
        "plot_confusion_matrix(cm=cm,classes=cm_plot_labels,title='Confusion matrix')"
      ],
      "execution_count": null,
      "outputs": []
    }
  ]
}